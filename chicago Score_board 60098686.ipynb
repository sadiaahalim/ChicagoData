{
 "cells": [
  {
   "cell_type": "code",
   "execution_count": 33,
   "id": "8ea8caaa",
   "metadata": {},
   "outputs": [
    {
     "name": "stdout",
     "output_type": "stream",
     "text": [
      "Mean Squared Error on New Data: 0.05550800045946683\n"
     ]
    }
   ],
   "source": [
    "import pandas as pd\n",
    "from sklearn.metrics import mean_squared_error\n",
    "import joblib\n",
    "\n",
    "# Load the trained pipeline\n",
    "loaded_pipe = joblib.load('gbm_model.joblib')\n",
    "\n",
    "# Assuming you have new data for scoring (replace 'new_data.csv' with your file)\n",
    "new_data = pd.read_csv('assignment.csv')\n",
    "\n",
    "# Separate the features (X_new) and target (y_true) in the new data\n",
    "X_new = new_data[numerical_features + categorical_features]\n",
    "y_true = new_data['HARDSHIP_INDEX']\n",
    "\n",
    "# Use the loaded pipeline to make predictions on the new data\n",
    "predictions_new = loaded_pipe.predict(X_new)\n",
    "\n",
    "# Evaluate the model's performance on the new data\n",
    "mse_new = mean_squared_error(y_true, predictions_new)\n",
    "print(f'Mean Squared Error on New Data: {mse_new}')\n"
   ]
  },
  {
   "cell_type": "code",
   "execution_count": 34,
   "id": "703586dc",
   "metadata": {},
   "outputs": [
    {
     "name": "stdout",
     "output_type": "stream",
     "text": [
      "Predicted HARDSHIP_INDEX: 33.22396736830224\n"
     ]
    }
   ],
   "source": [
    "import pandas as pd\n",
    "import joblib\n",
    "\n",
    "# Load the trained pipeline\n",
    "loaded_pipe = joblib.load('gbm_model.joblib')\n",
    "\n",
    "# Assuming you have a single record to predict (replace with your data)\n",
    "new_record = {'COMMUNITY_AREA_NUMBER': 123, 'PERCENT_OF_HOUSING_CROWDED': 5.0, 'PERCENT_HOUSEHOLDS_BELOW_POVERTY': 10.0,\n",
    "              'PERCENT_AGED_16__UNEMPLOYED': 8.0, 'PERCENT_AGED_25__WITHOUT_HIGH_SCHOOL_DIPLOMA': 15.0,\n",
    "              'PERCENT_AGED_UNDER_18_OR_OVER_64': 25.0, 'PER_CAPITA_INCOME': 50000.0, 'INCOME_PER_CAPITA': 1000.0,\n",
    "              'AVG_SCORE': 120.0, 'PRIMARY_TYPE': 'THEFT'}\n",
    "\n",
    "# Convert the dictionary to a DataFrame\n",
    "new_record_df = pd.DataFrame([new_record])\n",
    "\n",
    "# Separate the features from the target\n",
    "X_new = new_record_df[numerical_features + categorical_features]\n",
    "\n",
    "# Use the loaded pipeline to make predictions on the new data\n",
    "prediction = loaded_pipe.predict(X_new)\n",
    "\n",
    "# Print the prediction\n",
    "print(f'Predicted HARDSHIP_INDEX: {prediction[0]}')\n"
   ]
  },
  {
   "cell_type": "code",
   "execution_count": null,
   "id": "8c9aeed4",
   "metadata": {},
   "outputs": [],
   "source": []
  }
 ],
 "metadata": {
  "kernelspec": {
   "display_name": "Python 3 (ipykernel)",
   "language": "python",
   "name": "python3"
  },
  "language_info": {
   "codemirror_mode": {
    "name": "ipython",
    "version": 3
   },
   "file_extension": ".py",
   "mimetype": "text/x-python",
   "name": "python",
   "nbconvert_exporter": "python",
   "pygments_lexer": "ipython3",
   "version": "3.11.5"
  }
 },
 "nbformat": 4,
 "nbformat_minor": 5
}
